{
 "cells": [
  {
   "cell_type": "code",
   "execution_count": 1,
   "metadata": {},
   "outputs": [],
   "source": [
    "#packs\n",
    "import pandas as pd\n",
    "import requests\n",
    "import statsmodels.api as sm\n",
    "import matplotlib.pyplot as plt\n",
    "import pandas_datareader.data as web\n",
    "import googlefinance.client "
   ]
  },
  {
   "cell_type": "code",
   "execution_count": 39,
   "metadata": {
    "collapsed": true
   },
   "outputs": [
    {
     "name": "stdout",
     "output_type": "stream",
     "text": [
      "    IBOV UGPA3.SA     const  IBOV EMBR3.SA  IBOV SCAR3.SA  IBOV ECOR3.SA  \\\n",
      "0         0.65047 -0.000471            NaN            NaN            NaN   \n",
      "1             NaN -0.000163       0.350066            NaN            NaN   \n",
      "2             NaN -0.000117            NaN       0.371732            NaN   \n",
      "3             NaN -0.000537            NaN            NaN       1.063651   \n",
      "4             NaN -0.000008            NaN            NaN            NaN   \n",
      "5             NaN  0.000206            NaN            NaN            NaN   \n",
      "6             NaN -0.000224            NaN            NaN            NaN   \n",
      "7             NaN  0.000125            NaN            NaN            NaN   \n",
      "8             NaN -0.000328            NaN            NaN            NaN   \n",
      "9             NaN -0.000193            NaN            NaN            NaN   \n",
      "10            NaN  0.000196            NaN            NaN            NaN   \n",
      "11            NaN -0.001315            NaN            NaN            NaN   \n",
      "12            NaN -0.001294            NaN            NaN            NaN   \n",
      "13            NaN  0.000725            NaN            NaN            NaN   \n",
      "14            NaN  0.000216            NaN            NaN            NaN   \n",
      "15            NaN  0.000298            NaN            NaN            NaN   \n",
      "16            NaN  0.000385            NaN            NaN            NaN   \n",
      "17            NaN -0.001020            NaN            NaN            NaN   \n",
      "\n",
      "    IBOV LEVE3.SA  IBOV SSBR3.SA  IBOV BPAN4.SA  IBOV POMO4.SA  IBOV BRPR3.SA  \\\n",
      "0             NaN            NaN            NaN            NaN            NaN   \n",
      "1             NaN            NaN            NaN            NaN            NaN   \n",
      "2             NaN            NaN            NaN            NaN            NaN   \n",
      "3             NaN            NaN            NaN            NaN            NaN   \n",
      "4        0.345764            NaN            NaN            NaN            NaN   \n",
      "5             NaN       0.423082            NaN            NaN            NaN   \n",
      "6             NaN            NaN       0.475411            NaN            NaN   \n",
      "7             NaN            NaN            NaN       0.770457            NaN   \n",
      "8             NaN            NaN            NaN            NaN       0.478099   \n",
      "9             NaN            NaN            NaN            NaN            NaN   \n",
      "10            NaN            NaN            NaN            NaN            NaN   \n",
      "11            NaN            NaN            NaN            NaN            NaN   \n",
      "12            NaN            NaN            NaN            NaN            NaN   \n",
      "13            NaN            NaN            NaN            NaN            NaN   \n",
      "14            NaN            NaN            NaN            NaN            NaN   \n",
      "15            NaN            NaN            NaN            NaN            NaN   \n",
      "16            NaN            NaN            NaN            NaN            NaN   \n",
      "17            NaN            NaN            NaN            NaN            NaN   \n",
      "\n",
      "    IBOV CSAN3.SA  IBOV CGAS5.SA  IBOV TRPN3.SA  IBOV BRFS3.SA  IBOV ALPA4.SA  \\\n",
      "0             NaN            NaN            NaN            NaN            NaN   \n",
      "1             NaN            NaN            NaN            NaN            NaN   \n",
      "2             NaN            NaN            NaN            NaN            NaN   \n",
      "3             NaN            NaN            NaN            NaN            NaN   \n",
      "4             NaN            NaN            NaN            NaN            NaN   \n",
      "5             NaN            NaN            NaN            NaN            NaN   \n",
      "6             NaN            NaN            NaN            NaN            NaN   \n",
      "7             NaN            NaN            NaN            NaN            NaN   \n",
      "8             NaN            NaN            NaN            NaN            NaN   \n",
      "9        0.805093            NaN            NaN            NaN            NaN   \n",
      "10            NaN       0.306157            NaN            NaN            NaN   \n",
      "11            NaN            NaN       0.239586            NaN            NaN   \n",
      "12            NaN            NaN            NaN       0.620277            NaN   \n",
      "13            NaN            NaN            NaN            NaN       0.517367   \n",
      "14            NaN            NaN            NaN            NaN            NaN   \n",
      "15            NaN            NaN            NaN            NaN            NaN   \n",
      "16            NaN            NaN            NaN            NaN            NaN   \n",
      "17            NaN            NaN            NaN            NaN            NaN   \n",
      "\n",
      "    IBOV RAPT4.SA  IBOV UCAS3.SA  IBOV PETR4.SA  IBOV VLID3.SA  \n",
      "0             NaN            NaN            NaN            NaN  \n",
      "1             NaN            NaN            NaN            NaN  \n",
      "2             NaN            NaN            NaN            NaN  \n",
      "3             NaN            NaN            NaN            NaN  \n",
      "4             NaN            NaN            NaN            NaN  \n",
      "5             NaN            NaN            NaN            NaN  \n",
      "6             NaN            NaN            NaN            NaN  \n",
      "7             NaN            NaN            NaN            NaN  \n",
      "8             NaN            NaN            NaN            NaN  \n",
      "9             NaN            NaN            NaN            NaN  \n",
      "10            NaN            NaN            NaN            NaN  \n",
      "11            NaN            NaN            NaN            NaN  \n",
      "12            NaN            NaN            NaN            NaN  \n",
      "13            NaN            NaN            NaN            NaN  \n",
      "14       1.176507            NaN            NaN            NaN  \n",
      "15            NaN         0.5588            NaN            NaN  \n",
      "16            NaN            NaN       1.797947            NaN  \n",
      "17            NaN            NaN            NaN       0.496168  \n"
     ]
    }
   ],
   "source": [
    "#loop\n",
    "\n",
    "port = ['UGPA3.SA', 'EMBR3.SA', 'SCAR3.SA', 'ECOR3.SA', 'LEVE3.SA', 'SSBR3.SA', 'BPAN4.SA', 'POMO4.SA', 'BRPR3.SA','CSAN3.SA',\n",
    "        'CGAS5.SA', 'TRPN3.SA', 'BRFS3.SA', 'ALPA4.SA', 'RAPT4.SA', 'UCAS3.SA', 'PETR4.SA','VLID3.SA']\n",
    "\n",
    "start = '2015-01-01'\n",
    "end = '2018-11-01'\n",
    "\n",
    "betas = pd.DataFrame()\n",
    "\n",
    "for stock in port:\n",
    "    #concat data\n",
    "    df = web.DataReader(stock, 'yahoo', start, end)\n",
    "    df = pd.concat([df['Close'], bova['Close']], axis = 1)\n",
    "    df.columns = ['stock', 'IBOV ' + stock]\n",
    "    \n",
    "    #daily_return\n",
    "    df_return = df.pct_change(1)\n",
    "    df_return_clean = df_return.dropna(axis = 0)\n",
    "    \n",
    "    #split \n",
    "    X = df_return_clean['IBOV ' + stock]\n",
    "    Y = df_return_clean['stock']\n",
    "\n",
    "    #constant\n",
    "    A = sm.add_constant(X)\n",
    "    \n",
    "    #model\n",
    "    model = sm.OLS(Y, A).fit()\n",
    "    \n",
    "    betas = betas.append(model.params, ignore_index = True)\n",
    "    \n",
    "print(betas)   "
   ]
  },
  {
   "cell_type": "code",
   "execution_count": 90,
   "metadata": {
    "collapsed": true
   },
   "outputs": [
    {
     "data": {
      "text/plain": [
       "<matplotlib.collections.PathCollection at 0x1e7f80a5be0>"
      ]
     },
     "execution_count": 90,
     "metadata": {},
     "output_type": "execute_result"
    },
    {
     "data": {
      "image/png": "[encoded data removed]",
      "text/plain": [
       "<Figure size 432x288 with 1 Axes>"
      ]
     },
     "metadata": {
      "needs_background": "light"
     },
     "output_type": "display_data"
    }
   ],
   "source": [
    "###plot\n",
    "\n",
    "#adjusted\n",
    "beta = betas.transpose()\n",
    "beta = beta.drop(beta.index[1]).reset_index().fillna(0)\n",
    "\n",
    "beta['beta'] = beta.iloc[:,1:len(port) + 1].sum() \n",
    "beta.drop(beta.columns[1:19], axis = 1, inplace = True)\n",
    "\n",
    "#plot\n",
    "plt.scatter(beta['index'], beta['beta'])\n"
   ]
  }
 ],
 "metadata": {
  "kernelspec": {
   "display_name": "Python 3",
   "language": "python",
   "name": "python3"
  },
  "language_info": {
   "codemirror_mode": {
    "name": "ipython",
    "version": 3
   },
   "file_extension": ".py",
   "mimetype": "text/x-python",
   "name": "python",
   "nbconvert_exporter": "python",
   "pygments_lexer": "ipython3",
   "version": "3.7.0"
  }
 },
 "nbformat": 4,
 "nbformat_minor": 2
}
